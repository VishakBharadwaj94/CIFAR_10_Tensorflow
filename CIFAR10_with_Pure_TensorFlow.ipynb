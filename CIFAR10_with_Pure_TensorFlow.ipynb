{
  "nbformat": 4,
  "nbformat_minor": 0,
  "metadata": {
    "colab": {
      "name": "CIFAR10_with_Pure_TensorFlow.ipynb",
      "provenance": [],
      "include_colab_link": true
    },
    "kernelspec": {
      "name": "python3",
      "display_name": "Python 3"
    },
    "accelerator": "TPU"
  },
  "cells": [
    {
      "cell_type": "markdown",
      "metadata": {
        "id": "view-in-github",
        "colab_type": "text"
      },
      "source": [
        "<a href=\"https://colab.research.google.com/github/VishakBharadwaj94/CIFAR_10_Tensorflow/blob/master/CIFAR10_with_Pure_TensorFlow.ipynb\" target=\"_parent\"><img src=\"https://colab.research.google.com/assets/colab-badge.svg\" alt=\"Open In Colab\"/></a>"
      ]
    },
    {
      "cell_type": "code",
      "metadata": {
        "id": "OVNQFoGiSp_4",
        "colab_type": "code",
        "outputId": "f58a02f0-660e-44b0-9c19-76ba889c4c84",
        "colab": {
          "base_uri": "https://localhost:8080/",
          "height": 173
        }
      },
      "source": [
        "#download the data\n",
        "!wget http://pjreddie.com/media/files/cifar.tgz\n",
        "!tar xzf cifar.tgz"
      ],
      "execution_count": 1,
      "outputs": [
        {
          "output_type": "stream",
          "text": [
            "URL transformed to HTTPS due to an HSTS policy\n",
            "--2019-12-17 16:49:58--  https://pjreddie.com/media/files/cifar.tgz\n",
            "Resolving pjreddie.com (pjreddie.com)... 128.208.4.108\n",
            "Connecting to pjreddie.com (pjreddie.com)|128.208.4.108|:443... connected.\n",
            "HTTP request sent, awaiting response... 200 OK\n",
            "Length: 168584360 (161M) [application/octet-stream]\n",
            "Saving to: ‘cifar.tgz.1’\n",
            "\n",
            "cifar.tgz.1          81%[===============>    ] 130.71M  1.23MB/s    eta 8s     ^C\n"
          ],
          "name": "stdout"
        }
      ]
    },
    {
      "cell_type": "code",
      "metadata": {
        "id": "3eeR_RDscx4-",
        "colab_type": "code",
        "colab": {}
      },
      "source": [
        "from pathlib import Path \n",
        "path = Path('./cifar')"
      ],
      "execution_count": 0,
      "outputs": []
    },
    {
      "cell_type": "code",
      "metadata": {
        "id": "3zzQ55XrjJ8N",
        "colab_type": "code",
        "colab": {}
      },
      "source": [
        "from bs import random_mini_batches"
      ],
      "execution_count": 0,
      "outputs": []
    },
    {
      "cell_type": "code",
      "metadata": {
        "id": "PDKaoca1T9Ge",
        "colab_type": "code",
        "colab": {}
      },
      "source": [
        "from PIL import Image\n",
        "import numpy as np\n",
        "import os\n",
        "\n",
        "def load_dataset(path=path):\n",
        "  with open(path/'labels.txt','r') as f:\n",
        "    labels = f.read().split()\n",
        "  \n",
        "  label_mapping = dict(zip(labels, list(range(len(labels)))))\n",
        "  files = os.listdir(path/'train')\n",
        "  files = [os.path.join(path/'train',x) for x in files]\n",
        "  \n",
        "  x_train_orig = np.array([np.array(Image.open(file)) for file in files])\n",
        "  y_train_orig = np.array([label_mapping[files[idx].split('_')[-1].split('.')[0]] for idx in range(len(files))])\n",
        "\n",
        "  x_test_orig = np.array([np.array(Image.open(file)) for file in files])\n",
        "  y_test_orig = np.array([label_mapping[files[idx].split('_')[-1].split('.')[0]] for idx in range(len(files))])\n",
        "  \n",
        "  y_train_orig = y_train_orig.reshape((1, y_train_orig.shape[0])).T\n",
        "  y_test_orig = y_test_orig.reshape((1, y_test_orig.shape[0])).T\n",
        "\n",
        "  return x_train_orig,y_train_orig.T,x_test_orig,y_test_orig,labels\n",
        "    "
      ],
      "execution_count": 0,
      "outputs": []
    },
    {
      "cell_type": "code",
      "metadata": {
        "id": "nJwfOa2fayEL",
        "colab_type": "code",
        "colab": {}
      },
      "source": [
        "x_train_orig,y_train_orig,x_test_orig,y_test_orig,classes=load_dataset()"
      ],
      "execution_count": 0,
      "outputs": []
    },
    {
      "cell_type": "code",
      "metadata": {
        "id": "XX2KLH3GhFUG",
        "colab_type": "code",
        "outputId": "9826d447-b0f7-4c3c-9553-eda90324e6cc",
        "colab": {
          "base_uri": "https://localhost:8080/",
          "height": 86
        }
      },
      "source": [
        "print(x_train_orig.shape)\n",
        "print(y_train_orig.shape)\n",
        "print(x_test_orig.shape)\n",
        "print(y_test_orig.shape)"
      ],
      "execution_count": 6,
      "outputs": [
        {
          "output_type": "stream",
          "text": [
            "(50000, 32, 32, 3)\n",
            "(1, 50000)\n",
            "(50000, 32, 32, 3)\n",
            "(50000, 1)\n"
          ],
          "name": "stdout"
        }
      ]
    },
    {
      "cell_type": "code",
      "metadata": {
        "id": "m0pGHmgNP7pi",
        "colab_type": "code",
        "colab": {}
      },
      "source": [
        "def convert_to_one_hot(Y, C):\n",
        "    Y = np.eye(C)[Y.reshape(-1)].T\n",
        "    return Y"
      ],
      "execution_count": 0,
      "outputs": []
    },
    {
      "cell_type": "code",
      "metadata": {
        "id": "_PvMnB2ohsgh",
        "colab_type": "code",
        "outputId": "c572f56d-c2da-48c7-edde-71b8aaf40891",
        "colab": {
          "base_uri": "https://localhost:8080/",
          "height": 86
        }
      },
      "source": [
        "# Flatten the training and test images\n",
        "\n",
        "x_train_flatten = x_train_orig.reshape(x_train_orig.shape[0], -1).T\n",
        "x_test_flatten = x_test_orig.reshape(x_test_orig.shape[0], -1).T\n",
        "\n",
        "# Normalize image vectors\n",
        "\n",
        "x_train = x_train_flatten/255.\n",
        "x_test = x_test_flatten/255.\n",
        "\n",
        "# Convert training and test labels to one hot matrices\n",
        "\n",
        "y_train = convert_to_one_hot(y_train_orig, 10)\n",
        "y_test = convert_to_one_hot(y_test_orig, 10)\n",
        "\n",
        "print(x_train.shape)\n",
        "print(y_train.shape)\n",
        "print(x_test.shape)\n",
        "print(y_test.shape)"
      ],
      "execution_count": 8,
      "outputs": [
        {
          "output_type": "stream",
          "text": [
            "(3072, 50000)\n",
            "(10, 50000)\n",
            "(3072, 50000)\n",
            "(10, 50000)\n"
          ],
          "name": "stdout"
        }
      ]
    },
    {
      "cell_type": "code",
      "metadata": {
        "id": "DPD1kBcqOOVl",
        "colab_type": "code",
        "colab": {}
      },
      "source": [
        "import tensorflow as tf"
      ],
      "execution_count": 0,
      "outputs": []
    },
    {
      "cell_type": "code",
      "metadata": {
        "id": "BfWmefh8Oo20",
        "colab_type": "code",
        "colab": {}
      },
      "source": [
        "def cost(logits,labels):\n",
        "\n",
        "  z = tf.placeholder(tf.float32,name='z')\n",
        "  y = tf.placeholder(tf.float32,name='y')\n",
        "\n",
        "  loss = tf.nn.sigmoid_cross_entropy_with_logits(labels=y,logits=z)\n",
        "\n",
        "  with tf.Session() as sess:\n",
        "\n",
        "    loss = sess.run(loss,feed_dict={z:logits,y:labels})\n",
        "\n",
        "  return loss"
      ],
      "execution_count": 0,
      "outputs": []
    },
    {
      "cell_type": "code",
      "metadata": {
        "id": "y54mxbXBP3Gv",
        "colab_type": "code",
        "outputId": "ae617b54-0ebd-45ca-d27b-6b38dc1a76ad",
        "colab": {
          "base_uri": "https://localhost:8080/",
          "height": 106
        }
      },
      "source": [
        "#test\n",
        "import numpy as np\n",
        "\n",
        "logits = np.array([0.2,0.4,0.7,0.9])\n",
        "\n",
        "cost = cost(logits, np.array([0,0,1,1]))\n",
        "print (\"cost = \" + str(cost))"
      ],
      "execution_count": 11,
      "outputs": [
        {
          "output_type": "stream",
          "text": [
            "WARNING:tensorflow:From /usr/local/lib/python3.6/dist-packages/tensorflow_core/python/ops/nn_impl.py:183: where (from tensorflow.python.ops.array_ops) is deprecated and will be removed in a future version.\n",
            "Instructions for updating:\n",
            "Use tf.where in 2.0, which has the same broadcast rule as np.where\n",
            "cost = [0.79813886 0.91301525 0.40318605 0.34115386]\n"
          ],
          "name": "stdout"
        }
      ]
    },
    {
      "cell_type": "code",
      "metadata": {
        "id": "ZWp1evstR8G8",
        "colab_type": "code",
        "colab": {}
      },
      "source": [
        "#creating placeholders\n",
        "\n",
        "def create_placeholders(n_x,n_y):\n",
        "  X = tf.placeholder(tf.float32,name='X',shape=[n_x, None]) #n_x is number of pixels\n",
        "  Y = tf.placeholder(tf.float32,name='Y',shape=[n_y, None]) #n_y is number of classes\n",
        "  return X,Y\n"
      ],
      "execution_count": 0,
      "outputs": []
    },
    {
      "cell_type": "code",
      "metadata": {
        "id": "eZuDE4EZfTAU",
        "colab_type": "code",
        "colab": {}
      },
      "source": [
        "def initialize_parameters():\n",
        "\n",
        "  #initializing  3 linear layers with biases\n",
        "\n",
        "    W1 = tf.get_variable(\"W1\", [25,3072], initializer = tf.contrib.layers.xavier_initializer(seed = 1))\n",
        "    b1 = tf.get_variable(\"b1\", [25,1], initializer = tf.zeros_initializer())\n",
        "    W2 = tf.get_variable(\"W2\", [12,25], initializer = tf.contrib.layers.xavier_initializer(seed = 1))\n",
        "    b2 = tf.get_variable(\"b2\", [12,1], initializer = tf.zeros_initializer())\n",
        "    W3 = tf.get_variable(\"W3\", [10,12], initializer = tf.contrib.layers.xavier_initializer(seed = 1))\n",
        "    b3 = tf.get_variable(\"b3\", [10,1], initializer = tf.zeros_initializer())\n",
        "\n",
        "    parameters = {\"W1\": W1,\n",
        "                  \"b1\": b1,\n",
        "                  \"W2\": W2,\n",
        "                  \"b2\": b2,\n",
        "                  \"W3\": W3,\n",
        "                  \"b3\": b3}\n",
        "    \n",
        "    return parameters"
      ],
      "execution_count": 0,
      "outputs": []
    },
    {
      "cell_type": "code",
      "metadata": {
        "id": "sN8CS1Nlf7Rh",
        "colab_type": "code",
        "colab": {}
      },
      "source": [
        "#forward prop\n",
        "\n",
        "def forward_prop(parameters,X):\n",
        "\n",
        "  # Get parameters \n",
        "  W1 = parameters['W1']\n",
        "  b1 = parameters['b1']\n",
        "  W2 = parameters['W2']\n",
        "  b2 = parameters['b2']\n",
        "  W3 = parameters['W3']\n",
        "  b3 = parameters['b3']\n",
        "\n",
        "  Z1 = tf.add(tf.matmul(W1,X),b1)\n",
        "  A1 = tf.nn.relu(Z1)\n",
        "  Z2 = tf.add(tf.matmul(W2,A1),b2)\n",
        "  A2 = tf.nn.relu(Z2)\n",
        "  Z3 = tf.add(tf.matmul(W3,A2),b3)\n",
        "  \n",
        "  return Z3"
      ],
      "execution_count": 0,
      "outputs": []
    },
    {
      "cell_type": "code",
      "metadata": {
        "id": "l5qA-mA1hGtX",
        "colab_type": "code",
        "colab": {}
      },
      "source": [
        "def compute_cost(Z3,Y):\n",
        "  logits = tf.transpose(Z3)\n",
        "  labels = tf.transpose(Y)\n",
        "\n",
        "  cost = tf.reduce_mean(tf.nn.softmax_cross_entropy_with_logits(logits =logits, labels = labels))\n",
        "\n",
        "  return cost\n"
      ],
      "execution_count": 0,
      "outputs": []
    },
    {
      "cell_type": "code",
      "metadata": {
        "id": "cWUMaNYbhlWH",
        "colab_type": "code",
        "colab": {}
      },
      "source": [
        "import matplotlib.pyplot as plt \n",
        "from tensorflow.python.framework import ops\n",
        "\n",
        "def model(x_train,y_train,x_test,y_test,epochs=200,lr=0.001,bs=32):\n",
        "\n",
        "    ops.reset_default_graph()\n",
        "    (n_x, m) = x_train.shape                          # n_x : input size, m :number of examples\n",
        "    n_y = y_train.shape[0]                            # n_y : output size\n",
        "    costs = []                                        \n",
        "    \n",
        "    # Create Placeholders of shape (n_x, n_y)\n",
        "\n",
        "    X, Y = create_placeholders(n_x, n_y)\n",
        "\n",
        "    # Initialize parameters\n",
        "\n",
        "    parameters = initialize_parameters()\n",
        "    \n",
        "    # Forward propagation: Build the forward propagation in the tensorflow graph\n",
        "    \n",
        "    Z3 = forward_prop(parameters,X)\n",
        "    \n",
        "    # Cost function\n",
        "\n",
        "    cost = compute_cost(Z3, Y)\n",
        "\n",
        "    \n",
        "    # optimizer for Backprop\n",
        "    \n",
        "    optimizer = tf.train.AdamOptimizer(learning_rate=lr).minimize(cost)\n",
        "\n",
        "    \n",
        "    # Initialize all the variables\n",
        "\n",
        "    init = tf.global_variables_initializer()\n",
        "\n",
        "    with tf.Session() as sess:\n",
        "        sess.run(init)\n",
        "        \n",
        "        # training loop\n",
        "        for epoch in range(epochs):\n",
        "\n",
        "            epoch_cost = 0.                       \n",
        "            num_minibatches = int(m / bs) # number of minibatches \n",
        "            minibatches = random_mini_batches(x_train, y_train, bs)\n",
        "\n",
        "            for minibatch in minibatches:\n",
        "\n",
        "                \n",
        "                (minibatch_X, minibatch_Y) = minibatch\n",
        "                _ , minibatch_cost = sess.run([optimizer, cost], feed_dict={X: minibatch_X, Y: minibatch_Y})\n",
        "                epoch_cost += minibatch_cost / num_minibatches\n",
        "\n",
        "            # Print the cost every epoch\n",
        "            if epoch % 100 == 0:\n",
        "                print (f\"Cost after epoch {epoch}: {epoch_cost}\")\n",
        "            if epoch % 5 == 0:\n",
        "                costs.append(epoch_cost)\n",
        "                \n",
        "        # plot the cost\n",
        "        plt.plot(np.squeeze(costs))\n",
        "        plt.ylabel('cost')\n",
        "        plt.xlabel('iterations (per tens)')\n",
        "        plt.title(\"Learning rate =\" + str(lr))\n",
        "        plt.show()\n",
        "\n",
        "        # lets save the parameters in a variable\n",
        "        parameters = sess.run(parameters)\n",
        "        print(\"Parameters have been trained\")\n",
        "\n",
        "        # Calculate the correct predictions\n",
        "        correct_prediction = tf.equal(tf.argmax(Z3), tf.argmax(Y))\n",
        "\n",
        "        # Calculate accuracy on the test set\n",
        "        accuracy = tf.reduce_mean(tf.cast(correct_prediction, \"float\"))\n",
        "\n",
        "        print(\"Train Accuracy:\", accuracy.eval({X: x_train, Y: y_train}))\n",
        "        print(\"Test Accuracy:\", accuracy.eval({X: x_test, Y: y_test}))\n",
        "        \n",
        "        return parameters"
      ],
      "execution_count": 0,
      "outputs": []
    },
    {
      "cell_type": "code",
      "metadata": {
        "id": "zohtOxYGkF0-",
        "colab_type": "code",
        "outputId": "fa1168a8-d824-493e-9de4-0e655ee7d4ae",
        "colab": {
          "base_uri": "https://localhost:8080/",
          "height": 678
        }
      },
      "source": [
        "parameters = model(x_train, y_train, x_test, y_test)"
      ],
      "execution_count": 17,
      "outputs": [
        {
          "output_type": "stream",
          "text": [
            "WARNING:tensorflow:\n",
            "The TensorFlow contrib module will not be included in TensorFlow 2.0.\n",
            "For more information, please see:\n",
            "  * https://github.com/tensorflow/community/blob/master/rfcs/20180907-contrib-sunset.md\n",
            "  * https://github.com/tensorflow/addons\n",
            "  * https://github.com/tensorflow/io (for I/O related ops)\n",
            "If you depend on functionality not listed there, please file an issue.\n",
            "\n",
            "WARNING:tensorflow:From <ipython-input-15-dd34714753c5>:5: softmax_cross_entropy_with_logits (from tensorflow.python.ops.nn_ops) is deprecated and will be removed in a future version.\n",
            "Instructions for updating:\n",
            "\n",
            "Future major versions of TensorFlow will allow gradients to flow\n",
            "into the labels input on backprop by default.\n",
            "\n",
            "See `tf.nn.softmax_cross_entropy_with_logits_v2`.\n",
            "\n",
            "Cost after epoch 0: 1.963295632303143\n",
            "Cost after epoch 100: 1.6435213910174884\n"
          ],
          "name": "stdout"
        },
        {
          "output_type": "display_data",
          "data": {
            "image/png": "[encoded data removed]",
            "text/plain": [
              "<Figure size 432x288 with 1 Axes>"
            ]
          },
          "metadata": {
            "tags": []
          }
        },
        {
          "output_type": "stream",
          "text": [
            "Parameters have been trained\n",
            "Train Accuracy: 0.41536\n",
            "Test Accuracy: 0.41536\n"
          ],
          "name": "stdout"
        }
      ]
    }
  ]
}